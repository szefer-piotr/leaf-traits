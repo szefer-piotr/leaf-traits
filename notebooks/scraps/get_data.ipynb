{
 "cells": [
  {
   "cell_type": "code",
   "execution_count": null,
   "metadata": {},
   "outputs": [],
   "source": [
    "# import os\n",
    "import fsspec\n",
    "# import zipfile \n",
    "from pathlib import Path\n",
    "\n",
    "data_path = Path(\"data/01_raw\")\n",
    "image_path = data_path / \"train_images\"\n",
    "tabular_path = data_path / \"train.csv\"\n",
    "\n",
    "if image_path.is_dir():\n",
    "    print(f\"{image_path} directory exists.\")\n",
    "else:\n",
    "    print(f\"Did not find {image_path} directory, downloading from GitHub...\")\n",
    "    fs = fsspec.filesystem(\"github\", org=\"szefer-piotr\", repo=\"leaf_trait_data\")\n",
    "    fs.get(fs.ls(\"\"), data_path.as_posix(), recursive=False)"
   ]
  },
  {
   "cell_type": "code",
   "execution_count": 2,
   "metadata": {},
   "outputs": [],
   "source": [
    "from kedro.io import AbstractDataset"
   ]
  }
 ],
 "metadata": {
  "kernelspec": {
   "display_name": "leaf-traits-1EnC7LYy-py3.10",
   "language": "python",
   "name": "python3"
  },
  "language_info": {
   "codemirror_mode": {
    "name": "ipython",
    "version": 3
   },
   "file_extension": ".py",
   "mimetype": "text/x-python",
   "name": "python",
   "nbconvert_exporter": "python",
   "pygments_lexer": "ipython3",
   "version": "3.10.12"
  }
 },
 "nbformat": 4,
 "nbformat_minor": 2
}
