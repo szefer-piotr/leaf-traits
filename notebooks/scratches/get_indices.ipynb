{
 "cells": [
  {
   "cell_type": "code",
   "execution_count": 39,
   "metadata": {},
   "outputs": [
    {
     "data": {
      "text/plain": [
       "['Unnamed: 0',\n",
       " 'id',\n",
       " 'WORLDCLIM_BIO1_annual_mean_temperature',\n",
       " 'WORLDCLIM_BIO12_annual_precipitation',\n",
       " 'WORLDCLIM_BIO13.BIO14_delta_precipitation_of_wettest_and_dryest_month',\n",
       " 'WORLDCLIM_BIO15_precipitation_seasonality',\n",
       " 'WORLDCLIM_BIO4_temperature_seasonality',\n",
       " 'WORLDCLIM_BIO7_temperature_annual_range',\n",
       " 'SOIL_bdod_0.5cm_mean_0.01_deg',\n",
       " 'SOIL_bdod_100.200cm_mean_0.01_deg',\n",
       " 'SOIL_bdod_15.30cm_mean_0.01_deg',\n",
       " 'SOIL_bdod_30.60cm_mean_0.01_deg',\n",
       " 'SOIL_bdod_5.15cm_mean_0.01_deg',\n",
       " 'SOIL_bdod_60.100cm_mean_0.01_deg',\n",
       " 'SOIL_cec_0.5cm_mean_0.01_deg',\n",
       " 'SOIL_cec_100.200cm_mean_0.01_deg',\n",
       " 'SOIL_cec_15.30cm_mean_0.01_deg',\n",
       " 'SOIL_cec_30.60cm_mean_0.01_deg',\n",
       " 'SOIL_cec_5.15cm_mean_0.01_deg',\n",
       " 'SOIL_cec_60.100cm_mean_0.01_deg',\n",
       " 'SOIL_cfvo_0.5cm_mean_0.01_deg',\n",
       " 'SOIL_cfvo_100.200cm_mean_0.01_deg',\n",
       " 'SOIL_cfvo_15.30cm_mean_0.01_deg',\n",
       " 'SOIL_cfvo_30.60cm_mean_0.01_deg',\n",
       " 'SOIL_cfvo_5.15cm_mean_0.01_deg',\n",
       " 'SOIL_cfvo_60.100cm_mean_0.01_deg',\n",
       " 'SOIL_clay_0.5cm_mean_0.01_deg',\n",
       " 'SOIL_clay_100.200cm_mean_0.01_deg',\n",
       " 'SOIL_clay_15.30cm_mean_0.01_deg',\n",
       " 'SOIL_clay_30.60cm_mean_0.01_deg',\n",
       " 'SOIL_clay_5.15cm_mean_0.01_deg',\n",
       " 'SOIL_clay_60.100cm_mean_0.01_deg',\n",
       " 'SOIL_nitrogen_0.5cm_mean_0.01_deg',\n",
       " 'SOIL_nitrogen_100.200cm_mean_0.01_deg',\n",
       " 'SOIL_nitrogen_15.30cm_mean_0.01_deg',\n",
       " 'SOIL_nitrogen_30.60cm_mean_0.01_deg',\n",
       " 'SOIL_nitrogen_5.15cm_mean_0.01_deg',\n",
       " 'SOIL_nitrogen_60.100cm_mean_0.01_deg',\n",
       " 'SOIL_ocd_0.5cm_mean_0.01_deg',\n",
       " 'SOIL_ocd_100.200cm_mean_0.01_deg',\n",
       " 'SOIL_ocd_15.30cm_mean_0.01_deg',\n",
       " 'SOIL_ocd_30.60cm_mean_0.01_deg',\n",
       " 'SOIL_ocd_5.15cm_mean_0.01_deg',\n",
       " 'SOIL_ocd_60.100cm_mean_0.01_deg',\n",
       " 'SOIL_ocs_0.30cm_mean_0.01_deg',\n",
       " 'SOIL_phh2o_0.5cm_mean_0.01_deg',\n",
       " 'SOIL_phh2o_100.200cm_mean_0.01_deg',\n",
       " 'SOIL_phh2o_15.30cm_mean_0.01_deg',\n",
       " 'SOIL_phh2o_30.60cm_mean_0.01_deg',\n",
       " 'SOIL_phh2o_5.15cm_mean_0.01_deg',\n",
       " 'SOIL_phh2o_60.100cm_mean_0.01_deg',\n",
       " 'SOIL_sand_0.5cm_mean_0.01_deg',\n",
       " 'SOIL_sand_100.200cm_mean_0.01_deg',\n",
       " 'SOIL_sand_15.30cm_mean_0.01_deg',\n",
       " 'SOIL_sand_30.60cm_mean_0.01_deg',\n",
       " 'SOIL_sand_5.15cm_mean_0.01_deg',\n",
       " 'SOIL_sand_60.100cm_mean_0.01_deg',\n",
       " 'SOIL_silt_0.5cm_mean_0.01_deg',\n",
       " 'SOIL_silt_100.200cm_mean_0.01_deg',\n",
       " 'SOIL_silt_15.30cm_mean_0.01_deg',\n",
       " 'SOIL_silt_30.60cm_mean_0.01_deg',\n",
       " 'SOIL_silt_5.15cm_mean_0.01_deg',\n",
       " 'SOIL_silt_60.100cm_mean_0.01_deg',\n",
       " 'SOIL_soc_0.5cm_mean_0.01_deg',\n",
       " 'SOIL_soc_100.200cm_mean_0.01_deg',\n",
       " 'SOIL_soc_15.30cm_mean_0.01_deg',\n",
       " 'SOIL_soc_30.60cm_mean_0.01_deg',\n",
       " 'SOIL_soc_5.15cm_mean_0.01_deg',\n",
       " 'SOIL_soc_60.100cm_mean_0.01_deg',\n",
       " 'MODIS_2000.2020_monthly_mean_surface_reflectance_band_01_._month_m1',\n",
       " 'MODIS_2000.2020_monthly_mean_surface_reflectance_band_02_._month_m1',\n",
       " 'MODIS_2000.2020_monthly_mean_surface_reflectance_band_03_._month_m1',\n",
       " 'MODIS_2000.2020_monthly_mean_surface_reflectance_band_04_._month_m1',\n",
       " 'MODIS_2000.2020_monthly_mean_surface_reflectance_band_05_._month_m1',\n",
       " 'MODIS_2000.2020_monthly_mean_surface_reflectance_band_01_._month_m10',\n",
       " 'MODIS_2000.2020_monthly_mean_surface_reflectance_band_02_._month_m10',\n",
       " 'MODIS_2000.2020_monthly_mean_surface_reflectance_band_03_._month_m10',\n",
       " 'MODIS_2000.2020_monthly_mean_surface_reflectance_band_04_._month_m10',\n",
       " 'MODIS_2000.2020_monthly_mean_surface_reflectance_band_05_._month_m10',\n",
       " 'MODIS_2000.2020_monthly_mean_surface_reflectance_band_01_._month_m11',\n",
       " 'MODIS_2000.2020_monthly_mean_surface_reflectance_band_02_._month_m11',\n",
       " 'MODIS_2000.2020_monthly_mean_surface_reflectance_band_03_._month_m11',\n",
       " 'MODIS_2000.2020_monthly_mean_surface_reflectance_band_04_._month_m11',\n",
       " 'MODIS_2000.2020_monthly_mean_surface_reflectance_band_05_._month_m11',\n",
       " 'MODIS_2000.2020_monthly_mean_surface_reflectance_band_01_._month_m12',\n",
       " 'MODIS_2000.2020_monthly_mean_surface_reflectance_band_02_._month_m12',\n",
       " 'MODIS_2000.2020_monthly_mean_surface_reflectance_band_03_._month_m12',\n",
       " 'MODIS_2000.2020_monthly_mean_surface_reflectance_band_04_._month_m12',\n",
       " 'MODIS_2000.2020_monthly_mean_surface_reflectance_band_05_._month_m12',\n",
       " 'MODIS_2000.2020_monthly_mean_surface_reflectance_band_01_._month_m2',\n",
       " 'MODIS_2000.2020_monthly_mean_surface_reflectance_band_02_._month_m2',\n",
       " 'MODIS_2000.2020_monthly_mean_surface_reflectance_band_03_._month_m2',\n",
       " 'MODIS_2000.2020_monthly_mean_surface_reflectance_band_04_._month_m2',\n",
       " 'MODIS_2000.2020_monthly_mean_surface_reflectance_band_05_._month_m2',\n",
       " 'MODIS_2000.2020_monthly_mean_surface_reflectance_band_01_._month_m3',\n",
       " 'MODIS_2000.2020_monthly_mean_surface_reflectance_band_02_._month_m3',\n",
       " 'MODIS_2000.2020_monthly_mean_surface_reflectance_band_03_._month_m3',\n",
       " 'MODIS_2000.2020_monthly_mean_surface_reflectance_band_04_._month_m3',\n",
       " 'MODIS_2000.2020_monthly_mean_surface_reflectance_band_05_._month_m3',\n",
       " 'MODIS_2000.2020_monthly_mean_surface_reflectance_band_01_._month_m4',\n",
       " 'MODIS_2000.2020_monthly_mean_surface_reflectance_band_02_._month_m4',\n",
       " 'MODIS_2000.2020_monthly_mean_surface_reflectance_band_03_._month_m4',\n",
       " 'MODIS_2000.2020_monthly_mean_surface_reflectance_band_04_._month_m4',\n",
       " 'MODIS_2000.2020_monthly_mean_surface_reflectance_band_05_._month_m4',\n",
       " 'MODIS_2000.2020_monthly_mean_surface_reflectance_band_01_._month_m5',\n",
       " 'MODIS_2000.2020_monthly_mean_surface_reflectance_band_02_._month_m5',\n",
       " 'MODIS_2000.2020_monthly_mean_surface_reflectance_band_03_._month_m5',\n",
       " 'MODIS_2000.2020_monthly_mean_surface_reflectance_band_04_._month_m5',\n",
       " 'MODIS_2000.2020_monthly_mean_surface_reflectance_band_05_._month_m5',\n",
       " 'MODIS_2000.2020_monthly_mean_surface_reflectance_band_01_._month_m6',\n",
       " 'MODIS_2000.2020_monthly_mean_surface_reflectance_band_02_._month_m6',\n",
       " 'MODIS_2000.2020_monthly_mean_surface_reflectance_band_03_._month_m6',\n",
       " 'MODIS_2000.2020_monthly_mean_surface_reflectance_band_04_._month_m6',\n",
       " 'MODIS_2000.2020_monthly_mean_surface_reflectance_band_05_._month_m6',\n",
       " 'MODIS_2000.2020_monthly_mean_surface_reflectance_band_01_._month_m7',\n",
       " 'MODIS_2000.2020_monthly_mean_surface_reflectance_band_02_._month_m7',\n",
       " 'MODIS_2000.2020_monthly_mean_surface_reflectance_band_03_._month_m7',\n",
       " 'MODIS_2000.2020_monthly_mean_surface_reflectance_band_04_._month_m7',\n",
       " 'MODIS_2000.2020_monthly_mean_surface_reflectance_band_05_._month_m7',\n",
       " 'MODIS_2000.2020_monthly_mean_surface_reflectance_band_01_._month_m8',\n",
       " 'MODIS_2000.2020_monthly_mean_surface_reflectance_band_02_._month_m8',\n",
       " 'MODIS_2000.2020_monthly_mean_surface_reflectance_band_03_._month_m8',\n",
       " 'MODIS_2000.2020_monthly_mean_surface_reflectance_band_04_._month_m8',\n",
       " 'MODIS_2000.2020_monthly_mean_surface_reflectance_band_05_._month_m8',\n",
       " 'MODIS_2000.2020_monthly_mean_surface_reflectance_band_01_._month_m9',\n",
       " 'MODIS_2000.2020_monthly_mean_surface_reflectance_band_02_._month_m9',\n",
       " 'MODIS_2000.2020_monthly_mean_surface_reflectance_band_03_._month_m9',\n",
       " 'MODIS_2000.2020_monthly_mean_surface_reflectance_band_04_._month_m9',\n",
       " 'MODIS_2000.2020_monthly_mean_surface_reflectance_band_05_._month_m9',\n",
       " 'VOD_C_2002_2018_multiyear_mean_m01',\n",
       " 'VOD_C_2002_2018_multiyear_mean_m02',\n",
       " 'VOD_C_2002_2018_multiyear_mean_m03',\n",
       " 'VOD_C_2002_2018_multiyear_mean_m04',\n",
       " 'VOD_C_2002_2018_multiyear_mean_m05',\n",
       " 'VOD_C_2002_2018_multiyear_mean_m06',\n",
       " 'VOD_C_2002_2018_multiyear_mean_m07',\n",
       " 'VOD_C_2002_2018_multiyear_mean_m08',\n",
       " 'VOD_C_2002_2018_multiyear_mean_m09',\n",
       " 'VOD_C_2002_2018_multiyear_mean_m10',\n",
       " 'VOD_C_2002_2018_multiyear_mean_m11',\n",
       " 'VOD_C_2002_2018_multiyear_mean_m12',\n",
       " 'VOD_Ku_1987_2017_multiyear_mean_m01',\n",
       " 'VOD_Ku_1987_2017_multiyear_mean_m02',\n",
       " 'VOD_Ku_1987_2017_multiyear_mean_m03',\n",
       " 'VOD_Ku_1987_2017_multiyear_mean_m04',\n",
       " 'VOD_Ku_1987_2017_multiyear_mean_m05',\n",
       " 'VOD_Ku_1987_2017_multiyear_mean_m06',\n",
       " 'VOD_Ku_1987_2017_multiyear_mean_m07',\n",
       " 'VOD_Ku_1987_2017_multiyear_mean_m08',\n",
       " 'VOD_Ku_1987_2017_multiyear_mean_m09',\n",
       " 'VOD_Ku_1987_2017_multiyear_mean_m10',\n",
       " 'VOD_Ku_1987_2017_multiyear_mean_m11',\n",
       " 'VOD_Ku_1987_2017_multiyear_mean_m12',\n",
       " 'VOD_X_1997_2018_multiyear_mean_m01',\n",
       " 'VOD_X_1997_2018_multiyear_mean_m02',\n",
       " 'VOD_X_1997_2018_multiyear_mean_m03',\n",
       " 'VOD_X_1997_2018_multiyear_mean_m04',\n",
       " 'VOD_X_1997_2018_multiyear_mean_m05',\n",
       " 'VOD_X_1997_2018_multiyear_mean_m06',\n",
       " 'VOD_X_1997_2018_multiyear_mean_m07',\n",
       " 'VOD_X_1997_2018_multiyear_mean_m08',\n",
       " 'VOD_X_1997_2018_multiyear_mean_m09',\n",
       " 'VOD_X_1997_2018_multiyear_mean_m10',\n",
       " 'VOD_X_1997_2018_multiyear_mean_m11',\n",
       " 'VOD_X_1997_2018_multiyear_mean_m12',\n",
       " 'X4_mean',\n",
       " 'X11_mean',\n",
       " 'X18_mean',\n",
       " 'X26_mean',\n",
       " 'X50_mean',\n",
       " 'X3112_mean',\n",
       " 'X4_sd',\n",
       " 'X11_sd',\n",
       " 'X18_sd',\n",
       " 'X26_sd',\n",
       " 'X50_sd',\n",
       " 'X3112_sd']"
      ]
     },
     "execution_count": 39,
     "metadata": {},
     "output_type": "execute_result"
    }
   ],
   "source": [
    "# !ls ../../data/01_raw/train.csv\n",
    "pd.read_csv(\"../../data/01_raw/train.csv\").columns.tolist()"
   ]
  },
  {
   "cell_type": "code",
   "execution_count": 1,
   "metadata": {},
   "outputs": [],
   "source": [
    "train = pd.read_csv(\"\")"
   ]
  },
  {
   "cell_type": "code",
   "execution_count": 3,
   "metadata": {},
   "outputs": [],
   "source": [
    "from sklearn.model_selection import train_test_split\n",
    "indices = range(276)\n",
    "(train_ids, test_ids) = train_test_split(indices, shuffle=True, test_size = 0.2)"
   ]
  },
  {
   "cell_type": "code",
   "execution_count": 1,
   "metadata": {},
   "outputs": [],
   "source": [
    "import pandas as pd\n",
    "data = pd.DataFrame({\"a\": [1,23,4,5],\n",
    "                     \"b\": [1,23,4,5],\"d\": [1,23,4,5]\n",
    "                     ,\"c\": [1,23,4,5],\"e\": [1,23,4,5]})"
   ]
  },
  {
   "cell_type": "code",
   "execution_count": 30,
   "metadata": {},
   "outputs": [
    {
     "data": {
      "text/plain": [
       "['b', 'd', 'e']"
      ]
     },
     "execution_count": 30,
     "metadata": {},
     "output_type": "execute_result"
    }
   ],
   "source": [
    "cols = data.loc[:, ~data.columns.isin([\"c\",\"a\"])].columns.tolist()\n",
    "cols"
   ]
  },
  {
   "cell_type": "code",
   "execution_count": 32,
   "metadata": {},
   "outputs": [
    {
     "data": {
      "text/plain": [
       "['b', 'd', 'e', 'sdsds']"
      ]
     },
     "execution_count": 32,
     "metadata": {},
     "output_type": "execute_result"
    }
   ],
   "source": [
    "cols = cols + ['sdsds']\n",
    "cols"
   ]
  },
  {
   "cell_type": "code",
   "execution_count": null,
   "metadata": {},
   "outputs": [],
   "source": []
  }
 ],
 "metadata": {
  "kernelspec": {
   "display_name": "leaf-traits-1EnC7LYy-py3.10",
   "language": "python",
   "name": "python3"
  },
  "language_info": {
   "codemirror_mode": {
    "name": "ipython",
    "version": 3
   },
   "file_extension": ".py",
   "mimetype": "text/x-python",
   "name": "python",
   "nbconvert_exporter": "python",
   "pygments_lexer": "ipython3",
   "version": "3.10.12"
  }
 },
 "nbformat": 4,
 "nbformat_minor": 2
}
